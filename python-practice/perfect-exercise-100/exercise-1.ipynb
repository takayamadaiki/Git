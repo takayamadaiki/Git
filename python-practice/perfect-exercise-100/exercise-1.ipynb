{
 "cells": [
  {
   "cell_type": "markdown",
   "id": "9d1a7629-721c-4ac5-ab25-ffedbd3cabcf",
   "metadata": {},
   "source": [
    "# 文字列"
   ]
  },
  {
   "cell_type": "markdown",
   "id": "6799325c-56e1-49e7-9827-e749cbbdbd17",
   "metadata": {
    "tags": []
   },
   "source": [
    "## 3.文字列の代入"
   ]
  },
  {
   "cell_type": "code",
   "execution_count": 6,
   "id": "db0a0f16-ce3d-465a-a161-1640a385a144",
   "metadata": {},
   "outputs": [
    {
     "data": {
      "text/plain": [
       "'私はTakayamaです。またKobe出身です。'"
      ]
     },
     "execution_count": 6,
     "metadata": {},
     "output_type": "execute_result"
    }
   ],
   "source": [
    "name = \"Takayama\"\n",
    "birthplace = \"Kobe\"\n",
    "\"私は{}です。また{}出身です。\".format(name, birthplace)"
   ]
  },
  {
   "cell_type": "code",
   "execution_count": 7,
   "id": "22585524-28b8-4530-9342-79bcf0ce4370",
   "metadata": {},
   "outputs": [
    {
     "data": {
      "text/plain": [
       "'私はTakayamaです。またKobe出身です。'"
      ]
     },
     "execution_count": 7,
     "metadata": {},
     "output_type": "execute_result"
    }
   ],
   "source": [
    "f\"私は{name}です。また{birthplace}出身です。\""
   ]
  },
  {
   "cell_type": "markdown",
   "id": "72b1f10a-e05d-4cce-9565-47a268f67a23",
   "metadata": {},
   "source": [
    "## 4.エスケープシーケンス"
   ]
  },
  {
   "cell_type": "code",
   "execution_count": 8,
   "id": "a1bae11b-3ac3-46f9-a247-5b122a7eb19a",
   "metadata": {},
   "outputs": [
    {
     "data": {
      "text/plain": [
       "'いつもの帰り道とは違うルートで帰ってみようかな。\\n迷子にならないか心配だけど'"
      ]
     },
     "execution_count": 8,
     "metadata": {},
     "output_type": "execute_result"
    }
   ],
   "source": [
    "\"いつもの帰り道とは違うルートで帰ってみようかな。\\n迷子にならないか心配だけど\""
   ]
  },
  {
   "cell_type": "code",
   "execution_count": 9,
   "id": "5c06d675-6b82-44b6-82e1-0d276611b0c3",
   "metadata": {},
   "outputs": [
    {
     "name": "stdout",
     "output_type": "stream",
     "text": [
      "いつもの帰り道とは違うルートで帰ってみようかな。\n",
      "迷子にならないか心配だけど\n"
     ]
    }
   ],
   "source": [
    "print(\"いつもの帰り道とは違うルートで帰ってみようかな。\\n迷子にならないか心配だけど\")"
   ]
  },
  {
   "cell_type": "markdown",
   "id": "71400647-4385-4505-9fd2-ef3392842397",
   "metadata": {
    "tags": []
   },
   "source": [
    "## 5.書式化"
   ]
  },
  {
   "cell_type": "code",
   "execution_count": 10,
   "id": "f95a52fe-d31b-4a6b-adea-8e6af32035c6",
   "metadata": {},
   "outputs": [
    {
     "name": "stdout",
     "output_type": "stream",
     "text": [
      "１０進数=16, １６進数=10, １０進数浮動小数展=16.000000\n"
     ]
    }
   ],
   "source": [
    "num = 16\n",
    "print(\"１０進数=%d, １６進数=%x, １０進数浮動小数展=%f\" % (num, num, num))"
   ]
  },
  {
   "cell_type": "markdown",
   "id": "eaaf9d28-d08c-4a40-b130-c9bbc3dc54cd",
   "metadata": {
    "tags": []
   },
   "source": [
    "## 6.大文字・小文字への変換"
   ]
  },
  {
   "cell_type": "code",
   "execution_count": 14,
   "id": "f8f624fe-e32d-47fe-8561-90f7fb110aea",
   "metadata": {},
   "outputs": [
    {
     "data": {
      "text/plain": [
       "'HELLO'"
      ]
     },
     "execution_count": 14,
     "metadata": {},
     "output_type": "execute_result"
    }
   ],
   "source": [
    "\"hello\".upper()"
   ]
  },
  {
   "cell_type": "code",
   "execution_count": 13,
   "id": "f0709dea-9b72-432a-8bb0-593fca59957f",
   "metadata": {},
   "outputs": [
    {
     "data": {
      "text/plain": [
       "'world'"
      ]
     },
     "execution_count": 13,
     "metadata": {},
     "output_type": "execute_result"
    }
   ],
   "source": [
    "\"WORLD\".lower()"
   ]
  },
  {
   "cell_type": "markdown",
   "id": "4b13b3c3-f853-4cc8-aa05-b83ada5de9d8",
   "metadata": {},
   "source": [
    "## 7.文字列の分割"
   ]
  },
  {
   "cell_type": "code",
   "execution_count": 15,
   "id": "637e62aa-d68a-456b-b9d5-d1a9bc21e96b",
   "metadata": {},
   "outputs": [
    {
     "name": "stdout",
     "output_type": "stream",
     "text": [
      "こんにちは。\n",
      "私はAIのロボットです。\n"
     ]
    }
   ],
   "source": [
    "message = \"こんにちは。\\n私はAIのロボットです。\"\n",
    "print(message)"
   ]
  },
  {
   "cell_type": "code",
   "execution_count": 17,
   "id": "0230ddcd-ce2b-447c-9434-874e79276921",
   "metadata": {},
   "outputs": [
    {
     "data": {
      "text/plain": [
       "['こんにちは。', '私はAIのロボットです。']"
      ]
     },
     "execution_count": 17,
     "metadata": {},
     "output_type": "execute_result"
    }
   ],
   "source": [
    "message.split(\"\\n\")"
   ]
  },
  {
   "cell_type": "code",
   "execution_count": 20,
   "id": "516ea5cf-439c-4c9c-89ee-84968c28b53c",
   "metadata": {},
   "outputs": [
    {
     "name": "stdout",
     "output_type": "stream",
     "text": [
      "こんにちは。\n",
      "私はAIのロボットです。\n"
     ]
    }
   ],
   "source": [
    "print(message)"
   ]
  },
  {
   "cell_type": "markdown",
   "id": "4a859145-b2f5-4c83-bee1-897909ef860e",
   "metadata": {},
   "source": [
    "## 文字列の結合"
   ]
  },
  {
   "cell_type": "code",
   "execution_count": 22,
   "id": "d820e038-f6ba-47dc-84f0-04de3ab89a98",
   "metadata": {},
   "outputs": [],
   "source": [
    "messages = message.split(\"\\n\")"
   ]
  },
  {
   "cell_type": "code",
   "execution_count": 23,
   "id": "07f1e5cc-615b-4f15-b968-04b2ae321ea5",
   "metadata": {},
   "outputs": [
    {
     "name": "stdout",
     "output_type": "stream",
     "text": [
      "['こんにちは。', '私はAIのロボットです。']\n"
     ]
    }
   ],
   "source": [
    "print(messages)"
   ]
  },
  {
   "cell_type": "code",
   "execution_count": 25,
   "id": "59a88320-b8fb-4dd6-b755-520a2dff38e2",
   "metadata": {},
   "outputs": [
    {
     "data": {
      "text/plain": [
       "'こんにちは。私はAIのロボットです。'"
      ]
     },
     "execution_count": 25,
     "metadata": {},
     "output_type": "execute_result"
    }
   ],
   "source": [
    "\"\".join(messages)"
   ]
  },
  {
   "cell_type": "code",
   "execution_count": 27,
   "id": "cb93927d-53c9-4d9b-b68f-ff11d5186c5e",
   "metadata": {},
   "outputs": [
    {
     "name": "stdout",
     "output_type": "stream",
     "text": [
      "こんにちは。私はAIのロボットです。\n"
     ]
    }
   ],
   "source": [
    "print(\"\".join(messages))"
   ]
  },
  {
   "cell_type": "code",
   "execution_count": 28,
   "id": "5fa8aa23-98ea-469c-bf13-2fa91ce02c4f",
   "metadata": {},
   "outputs": [],
   "source": [
    "message2 = \"こんばんわ。わたしは宇宙人です。\""
   ]
  },
  {
   "cell_type": "code",
   "execution_count": 29,
   "id": "1a0246ff-3819-4da8-baa8-0f6389036793",
   "metadata": {},
   "outputs": [
    {
     "name": "stdout",
     "output_type": "stream",
     "text": [
      "こんばんわ。わたしは宇宙人です。\n"
     ]
    }
   ],
   "source": [
    "print(message2)"
   ]
  },
  {
   "cell_type": "code",
   "execution_count": 30,
   "id": "c15cb867-1b5e-4b5d-af63-5c770c8f2a5d",
   "metadata": {},
   "outputs": [
    {
     "data": {
      "text/plain": [
       "['こんばんわ', 'わたしは宇宙人です', '']"
      ]
     },
     "execution_count": 30,
     "metadata": {},
     "output_type": "execute_result"
    }
   ],
   "source": [
    "message2.split(\"。\")"
   ]
  },
  {
   "cell_type": "code",
   "execution_count": 32,
   "id": "cf1b4109-bb58-4d07-b083-416d85b79836",
   "metadata": {},
   "outputs": [
    {
     "name": "stdout",
     "output_type": "stream",
     "text": [
      "こんばんわ。わたしは宇宙人です。\n"
     ]
    }
   ],
   "source": [
    "print(message2)"
   ]
  },
  {
   "cell_type": "code",
   "execution_count": 38,
   "id": "47f85f2a-1be4-4f8f-91fd-200dad5f0548",
   "metadata": {
    "tags": []
   },
   "outputs": [],
   "source": [
    "message3 = [\"おはよう。\", \"私は日本人です。\"]"
   ]
  },
  {
   "cell_type": "code",
   "execution_count": null,
   "id": "9709360e-06f4-4e75-8e5c-c40554ad9ae3",
   "metadata": {},
   "outputs": [],
   "source": [
    "print(message3)"
   ]
  },
  {
   "cell_type": "markdown",
   "id": "d1eb41ef-163e-43d8-91ce-0446fa1c1b93",
   "metadata": {},
   "source": [
    "## 9.空白除去"
   ]
  },
  {
   "cell_type": "code",
   "execution_count": 48,
   "id": "2b0eca34-0b9b-40e9-adb4-e5a962d8bb82",
   "metadata": {},
   "outputs": [
    {
     "name": "stdout",
     "output_type": "stream",
     "text": [
      "いつも食べるここの　　　　　ケーキは美味しすぎるね。\n"
     ]
    }
   ],
   "source": [
    "message =\"　　　　　　　　　いつも食べるここの　　　　　ケーキは美味しすぎるね。　　　　　\"\n",
    "print(message.strip())  "
   ]
  },
  {
   "cell_type": "markdown",
   "id": "f6569bcc-c4df-4473-b2f2-0c47267e8de2",
   "metadata": {},
   "source": [
    "## 10.文字列の置換"
   ]
  },
  {
   "cell_type": "code",
   "execution_count": 49,
   "id": "3eac2653-748d-4cbb-9ba3-bdcb4879ab6a",
   "metadata": {},
   "outputs": [
    {
     "data": {
      "text/plain": [
       "'今日は雨ですね。'"
      ]
     },
     "execution_count": 49,
     "metadata": {},
     "output_type": "execute_result"
    }
   ],
   "source": [
    "message = \"今日は晴れですね。\"\n",
    "message.replace(\"晴れ\", \"雨\")"
   ]
  },
  {
   "cell_type": "markdown",
   "id": "307c4cfb-62f7-4d08-b071-91847638516f",
   "metadata": {},
   "source": [
    "## 11.文字列検索"
   ]
  },
  {
   "cell_type": "code",
   "execution_count": 50,
   "id": "85dee124-4bdc-4d7e-9bc1-aafc63dfc8f8",
   "metadata": {},
   "outputs": [
    {
     "data": {
      "text/plain": [
       "6"
      ]
     },
     "execution_count": 50,
     "metadata": {},
     "output_type": "execute_result"
    }
   ],
   "source": [
    "message = \"今日はとても夜空が綺麗だ。\" \n",
    "message.find(\"夜空\")"
   ]
  },
  {
   "cell_type": "markdown",
   "id": "847a6828-6374-482a-80f5-db0fe817064d",
   "metadata": {},
   "source": [
    "## 12.型変換"
   ]
  },
  {
   "cell_type": "code",
   "execution_count": 89,
   "id": "91fc8624-4673-41e2-a431-a3afa034e448",
   "metadata": {},
   "outputs": [],
   "source": [
    "x = 1\n",
    "y = 1.52\n",
    "z = [1, 2, 3]\n",
    "w = dict(name=\"john\", birthplace=\"us\")"
   ]
  },
  {
   "cell_type": "code",
   "execution_count": 94,
   "id": "c2392c42-8852-454d-b679-6ddff750765b",
   "metadata": {},
   "outputs": [
    {
     "name": "stdout",
     "output_type": "stream",
     "text": [
      "1\n",
      "1\n",
      "1.52\n",
      "[1, 2, 3]\n",
      "{'name': 'john', 'birthplace': 'us'}\n",
      "{'name': 'john', 'birthplace': 'us'}\n"
     ]
    }
   ],
   "source": [
    "print(str(x))\n",
    "print(int(x))\n",
    "print(str(y))\n",
    "print(str(z))\n",
    "print(w)\n",
    "print(str(w))"
   ]
  },
  {
   "cell_type": "markdown",
   "id": "5a600e31-f5d7-4eff-b0d5-1c484561fdec",
   "metadata": {
    "tags": []
   },
   "source": [
    "## 13.包含関係"
   ]
  },
  {
   "cell_type": "code",
   "execution_count": 99,
   "id": "5282e3d1-aa1c-4c6b-94d3-e1b13f9fff7e",
   "metadata": {},
   "outputs": [
    {
     "name": "stdout",
     "output_type": "stream",
     "text": [
      "True ですよ\n"
     ]
    }
   ],
   "source": [
    "a, b =\"sba\", \"gasba\"\n",
    "print(a in b, \"ですよ\")"
   ]
  },
  {
   "cell_type": "code",
   "execution_count": 101,
   "id": "76032f75-0036-45ac-83a1-0335bc1eec1e",
   "metadata": {},
   "outputs": [
    {
     "data": {
      "text/plain": [
       "False"
      ]
     },
     "execution_count": 101,
     "metadata": {},
     "output_type": "execute_result"
    }
   ],
   "source": [
    "c, d =\"xch\", \"orweit\"\n",
    "c in d"
   ]
  },
  {
   "cell_type": "markdown",
   "id": "5de2234b-4b3e-47af-8380-7b93612eda9e",
   "metadata": {},
   "source": [
    "# リスト"
   ]
  },
  {
   "cell_type": "markdown",
   "id": "87fbda3d-1ec1-4439-9969-4542172d868b",
   "metadata": {},
   "source": [
    "## 14.特定の値を抽出"
   ]
  },
  {
   "cell_type": "code",
   "execution_count": 136,
   "id": "4ff8539b-10da-44e9-9808-da25a72888ca",
   "metadata": {},
   "outputs": [
    {
     "name": "stdout",
     "output_type": "stream",
     "text": [
      "3\n",
      "1\n"
     ]
    }
   ],
   "source": [
    "numbers = [0, 3, 8, -4, 9, 1]\n",
    "number_2 = numbers[1]\n",
    "number_last = numbers[-1]\n",
    "print(number_2)\n",
    "print(number_last)\n",
    "numbers.append(number_2)"
   ]
  },
  {
   "cell_type": "markdown",
   "id": "1b947ae0-55ea-40a5-8286-9bde0b834d0b",
   "metadata": {},
   "source": [
    "## 15.特定の値を挿入"
   ]
  },
  {
   "cell_type": "code",
   "execution_count": 143,
   "id": "cdd6dcf3-4d2b-42f5-97ae-d158f3304c8e",
   "metadata": {},
   "outputs": [],
   "source": [
    "numbers = [0, 3, 8, -4, 9, 1, 2]\n",
    "numbers.insert(0, 5)\n",
    "numbers.insert(-1, 6)"
   ]
  },
  {
   "cell_type": "markdown",
   "id": "09f5b7f5-a1e4-46c4-b1e8-c939c0ffe46e",
   "metadata": {
    "tags": []
   },
   "source": [
    "## 16.特定の値を削除"
   ]
  },
  {
   "cell_type": "code",
   "execution_count": 141,
   "id": "90b27412-05b3-4953-9e30-e5eaebf20ec3",
   "metadata": {
    "tags": []
   },
   "outputs": [
    {
     "data": {
      "text/plain": [
       "1"
      ]
     },
     "execution_count": 141,
     "metadata": {},
     "output_type": "execute_result"
    }
   ],
   "source": [
    "numbers = [5, 0, 3, 8, -4, 9, 1, -3, 2]\n",
    "numbers.remove(5)\n",
    "numbers.pop(-3)"
   ]
  },
  {
   "cell_type": "markdown",
   "id": "c9a74f26-3ddb-4afd-bdfc-bccb3e08d446",
   "metadata": {},
   "source": [
    "## 17.フィルター"
   ]
  },
  {
   "cell_type": "code",
   "execution_count": 156,
   "id": "a36cd258-6eab-42db-8507-853cad49e5d7",
   "metadata": {},
   "outputs": [
    {
     "name": "stdout",
     "output_type": "stream",
     "text": [
      "this number, 5 is odd\n",
      "This number, 0 is even\n",
      "this number, 3 is odd\n",
      "This number, 8 is even\n",
      "This number, -4 is even\n",
      "this number, 9 is odd\n",
      "this number, 1 is odd\n",
      "this number, -3 is odd\n",
      "This number, 2 is even\n"
     ]
    },
    {
     "data": {
      "text/plain": [
       "[0, 8, -4, 2]"
      ]
     },
     "execution_count": 156,
     "metadata": {},
     "output_type": "execute_result"
    }
   ],
   "source": [
    "numbers = [5, 0, 3, 8, -4, 9, 1, -3, 2]\n",
    "def isEven(number):\n",
    "    if number % 2 == 0:\n",
    "        print(f'This number, {number} is even')\n",
    "        return True\n",
    "    else:\n",
    "        print(f'this number, {number} is odd')\n",
    "        return False\n",
    "    \n",
    "list(filter(isEven, numbers))"
   ]
  },
  {
   "cell_type": "code",
   "execution_count": null,
   "id": "be75a2df-8e18-452a-bf10-84908ce4d214",
   "metadata": {},
   "outputs": [],
   "source": []
  }
 ],
 "metadata": {
  "kernelspec": {
   "display_name": "Python 3 (ipykernel)",
   "language": "python",
   "name": "python3"
  },
  "language_info": {
   "codemirror_mode": {
    "name": "ipython",
    "version": 3
   },
   "file_extension": ".py",
   "mimetype": "text/x-python",
   "name": "python",
   "nbconvert_exporter": "python",
   "pygments_lexer": "ipython3",
   "version": "3.10.2"
  },
  "toc-showmarkdowntxt": true,
  "widgets": {
   "application/vnd.jupyter.widget-state+json": {
    "state": {},
    "version_major": 2,
    "version_minor": 0
   }
  }
 },
 "nbformat": 4,
 "nbformat_minor": 5
}
