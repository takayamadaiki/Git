{
 "cells": [
  {
   "cell_type": "markdown",
   "id": "9d1a7629-721c-4ac5-ab25-ffedbd3cabcf",
   "metadata": {},
   "source": [
    "# 文字列"
   ]
  },
  {
   "cell_type": "markdown",
   "id": "6799325c-56e1-49e7-9827-e749cbbdbd17",
   "metadata": {
    "tags": []
   },
   "source": [
    "## 3.文字列の代入"
   ]
  },
  {
   "cell_type": "code",
   "execution_count": 6,
   "id": "db0a0f16-ce3d-465a-a161-1640a385a144",
   "metadata": {},
   "outputs": [
    {
     "data": {
      "text/plain": [
       "'私はTakayamaです。またKobe出身です。'"
      ]
     },
     "execution_count": 6,
     "metadata": {},
     "output_type": "execute_result"
    }
   ],
   "source": [
    "name = \"Takayama\"\n",
    "birthplace = \"Kobe\"\n",
    "\"私は{}です。また{}出身です。\".format(name, birthplace)"
   ]
  },
  {
   "cell_type": "code",
   "execution_count": 7,
   "id": "22585524-28b8-4530-9342-79bcf0ce4370",
   "metadata": {},
   "outputs": [
    {
     "data": {
      "text/plain": [
       "'私はTakayamaです。またKobe出身です。'"
      ]
     },
     "execution_count": 7,
     "metadata": {},
     "output_type": "execute_result"
    }
   ],
   "source": [
    "f\"私は{name}です。また{birthplace}出身です。\""
   ]
  },
  {
   "cell_type": "markdown",
   "id": "72b1f10a-e05d-4cce-9565-47a268f67a23",
   "metadata": {},
   "source": [
    "## 4.エスケープシーケンス"
   ]
  },
  {
   "cell_type": "code",
   "execution_count": 8,
   "id": "a1bae11b-3ac3-46f9-a247-5b122a7eb19a",
   "metadata": {},
   "outputs": [
    {
     "data": {
      "text/plain": [
       "'いつもの帰り道とは違うルートで帰ってみようかな。\\n迷子にならないか心配だけど'"
      ]
     },
     "execution_count": 8,
     "metadata": {},
     "output_type": "execute_result"
    }
   ],
   "source": [
    "\"いつもの帰り道とは違うルートで帰ってみようかな。\\n迷子にならないか心配だけど\""
   ]
  },
  {
   "cell_type": "code",
   "execution_count": 9,
   "id": "5c06d675-6b82-44b6-82e1-0d276611b0c3",
   "metadata": {},
   "outputs": [
    {
     "name": "stdout",
     "output_type": "stream",
     "text": [
      "いつもの帰り道とは違うルートで帰ってみようかな。\n",
      "迷子にならないか心配だけど\n"
     ]
    }
   ],
   "source": [
    "print(\"いつもの帰り道とは違うルートで帰ってみようかな。\\n迷子にならないか心配だけど\")"
   ]
  },
  {
   "cell_type": "markdown",
   "id": "71400647-4385-4505-9fd2-ef3392842397",
   "metadata": {
    "tags": []
   },
   "source": [
    "## 5.書式化"
   ]
  },
  {
   "cell_type": "code",
   "execution_count": 3,
   "id": "f95a52fe-d31b-4a6b-adea-8e6af32035c6",
   "metadata": {},
   "outputs": [
    {
     "name": "stdout",
     "output_type": "stream",
     "text": [
      "１０進数=16, １６進数=10, １０進数浮動小数展=16.000000\n"
     ]
    }
   ],
   "source": [
    "num = 16\n",
    "print(\"１０進数=%d, １６進数=%x, １０進数浮動小数展=%f\" % (num, num, num))"
   ]
  },
  {
   "cell_type": "markdown",
   "id": "eaaf9d28-d08c-4a40-b130-c9bbc3dc54cd",
   "metadata": {
    "tags": []
   },
   "source": [
    "## 6.大文字・小文字への変換"
   ]
  },
  {
   "cell_type": "code",
   "execution_count": 14,
   "id": "f8f624fe-e32d-47fe-8561-90f7fb110aea",
   "metadata": {},
   "outputs": [
    {
     "data": {
      "text/plain": [
       "'HELLO'"
      ]
     },
     "execution_count": 14,
     "metadata": {},
     "output_type": "execute_result"
    }
   ],
   "source": [
    "\"hello\".upper()"
   ]
  },
  {
   "cell_type": "code",
   "execution_count": 13,
   "id": "f0709dea-9b72-432a-8bb0-593fca59957f",
   "metadata": {},
   "outputs": [
    {
     "data": {
      "text/plain": [
       "'world'"
      ]
     },
     "execution_count": 13,
     "metadata": {},
     "output_type": "execute_result"
    }
   ],
   "source": [
    "\"WORLD\".lower()"
   ]
  },
  {
   "cell_type": "markdown",
   "id": "4b13b3c3-f853-4cc8-aa05-b83ada5de9d8",
   "metadata": {},
   "source": [
    "## 7.文字列の分割"
   ]
  },
  {
   "cell_type": "code",
   "execution_count": 9,
   "id": "637e62aa-d68a-456b-b9d5-d1a9bc21e96b",
   "metadata": {},
   "outputs": [
    {
     "name": "stdout",
     "output_type": "stream",
     "text": [
      "こんにちは。\n",
      "私はAIのロボットです。\n"
     ]
    }
   ],
   "source": [
    "message = \"こんにちは。\\n私はAIのロボットです。\"\n",
    "print(message)"
   ]
  },
  {
   "cell_type": "code",
   "execution_count": 10,
   "id": "0230ddcd-ce2b-447c-9434-874e79276921",
   "metadata": {},
   "outputs": [],
   "source": [
    "messages = message.split(\"\\n\")"
   ]
  },
  {
   "cell_type": "code",
   "execution_count": 12,
   "id": "516ea5cf-439c-4c9c-89ee-84968c28b53c",
   "metadata": {},
   "outputs": [
    {
     "name": "stdout",
     "output_type": "stream",
     "text": [
      "こんにちは。\n",
      "私はAIのロボットです。\n",
      "['こんにちは。', '私はAIのロボットです。']\n"
     ]
    }
   ],
   "source": [
    "print(message)\n",
    "print(messages)"
   ]
  },
  {
   "cell_type": "markdown",
   "id": "4a859145-b2f5-4c83-bee1-897909ef860e",
   "metadata": {},
   "source": [
    "## 8.文字列の結合"
   ]
  },
  {
   "cell_type": "code",
   "execution_count": 22,
   "id": "d820e038-f6ba-47dc-84f0-04de3ab89a98",
   "metadata": {},
   "outputs": [],
   "source": [
    "messages = message.split(\"\\n\")"
   ]
  },
  {
   "cell_type": "code",
   "execution_count": 23,
   "id": "07f1e5cc-615b-4f15-b968-04b2ae321ea5",
   "metadata": {},
   "outputs": [
    {
     "name": "stdout",
     "output_type": "stream",
     "text": [
      "['こんにちは。', '私はAIのロボットです。']\n"
     ]
    }
   ],
   "source": [
    "print(messages)"
   ]
  },
  {
   "cell_type": "code",
   "execution_count": 25,
   "id": "59a88320-b8fb-4dd6-b755-520a2dff38e2",
   "metadata": {},
   "outputs": [
    {
     "data": {
      "text/plain": [
       "'こんにちは。私はAIのロボットです。'"
      ]
     },
     "execution_count": 25,
     "metadata": {},
     "output_type": "execute_result"
    }
   ],
   "source": [
    "\"\".join(messages)\n",
    "print(\"\".join(messages))"
   ]
  },
  {
   "cell_type": "code",
   "execution_count": 28,
   "id": "5fa8aa23-98ea-469c-bf13-2fa91ce02c4f",
   "metadata": {},
   "outputs": [],
   "source": [
    "message2 = \"こんばんわ。わたしは宇宙人です。\"\n",
    "print(message2)"
   ]
  },
  {
   "cell_type": "code",
   "execution_count": 30,
   "id": "c15cb867-1b5e-4b5d-af63-5c770c8f2a5d",
   "metadata": {},
   "outputs": [
    {
     "data": {
      "text/plain": [
       "['こんばんわ', 'わたしは宇宙人です', '']"
      ]
     },
     "execution_count": 30,
     "metadata": {},
     "output_type": "execute_result"
    }
   ],
   "source": [
    "message2.split(\"。\")\n",
    "print(message2)"
   ]
  },
  {
   "cell_type": "code",
   "execution_count": 13,
   "id": "47f85f2a-1be4-4f8f-91fd-200dad5f0548",
   "metadata": {
    "tags": []
   },
   "outputs": [
    {
     "name": "stdout",
     "output_type": "stream",
     "text": [
      "['おはよう。', '私は日本人です。']\n"
     ]
    }
   ],
   "source": [
    "message3 = [\"おはよう。\", \"私は日本人です。\"]\n",
    "print(message3)"
   ]
  },
  {
   "cell_type": "markdown",
   "id": "d1eb41ef-163e-43d8-91ce-0446fa1c1b93",
   "metadata": {},
   "source": [
    "## 9.空白除去"
   ]
  },
  {
   "cell_type": "code",
   "execution_count": 48,
   "id": "2b0eca34-0b9b-40e9-adb4-e5a962d8bb82",
   "metadata": {},
   "outputs": [
    {
     "name": "stdout",
     "output_type": "stream",
     "text": [
      "いつも食べるここの　　　　　ケーキは美味しすぎるね。\n"
     ]
    }
   ],
   "source": [
    "message =\"　　　　　　　　　いつも食べるここの　　　　　ケーキは美味しすぎるね。　　　　　\"\n",
    "print(message.strip())  "
   ]
  },
  {
   "cell_type": "markdown",
   "id": "f6569bcc-c4df-4473-b2f2-0c47267e8de2",
   "metadata": {},
   "source": [
    "## 10.文字列の置換"
   ]
  },
  {
   "cell_type": "code",
   "execution_count": 49,
   "id": "3eac2653-748d-4cbb-9ba3-bdcb4879ab6a",
   "metadata": {},
   "outputs": [
    {
     "data": {
      "text/plain": [
       "'今日は雨ですね。'"
      ]
     },
     "execution_count": 49,
     "metadata": {},
     "output_type": "execute_result"
    }
   ],
   "source": [
    "message = \"今日は晴れですね。\"\n",
    "message.replace(\"晴れ\", \"雨\")"
   ]
  },
  {
   "cell_type": "markdown",
   "id": "307c4cfb-62f7-4d08-b071-91847638516f",
   "metadata": {},
   "source": [
    "## 11.文字列検索"
   ]
  },
  {
   "cell_type": "code",
   "execution_count": 14,
   "id": "85dee124-4bdc-4d7e-9bc1-aafc63dfc8f8",
   "metadata": {},
   "outputs": [
    {
     "data": {
      "text/plain": [
       "6"
      ]
     },
     "execution_count": 14,
     "metadata": {},
     "output_type": "execute_result"
    }
   ],
   "source": [
    "message = \"今日はとても夜空が綺麗だ。\" \n",
    "message.find(\"夜空\")"
   ]
  },
  {
   "cell_type": "markdown",
   "id": "847a6828-6374-482a-80f5-db0fe817064d",
   "metadata": {},
   "source": [
    "## 12.型変換"
   ]
  },
  {
   "cell_type": "code",
   "execution_count": 3,
   "id": "91fc8624-4673-41e2-a431-a3afa034e448",
   "metadata": {},
   "outputs": [],
   "source": [
    "x = 1\n",
    "y = 1.52\n",
    "z = [1, 2, 3]\n",
    "w = dict(name=\"john\", birthplace=\"us\")"
   ]
  },
  {
   "cell_type": "code",
   "execution_count": 19,
   "id": "c2392c42-8852-454d-b679-6ddff750765b",
   "metadata": {},
   "outputs": [
    {
     "name": "stdout",
     "output_type": "stream",
     "text": [
      "1\n",
      "1\n",
      "1.52\n",
      "[1, 2, 3]\n",
      "{'name': 'john', 'birthplace': 'us'}\n",
      "{'name': 'john', 'birthplace': 'us'}\n"
     ]
    }
   ],
   "source": [
    "print(str(x))\n",
    "print(int(x))\n",
    "print(str(y))\n",
    "print(str(z))\n",
    "print(w)\n",
    "print(str(w))"
   ]
  },
  {
   "cell_type": "markdown",
   "id": "5a600e31-f5d7-4eff-b0d5-1c484561fdec",
   "metadata": {
    "tags": []
   },
   "source": [
    "## 13.包含関係"
   ]
  },
  {
   "cell_type": "code",
   "execution_count": 99,
   "id": "5282e3d1-aa1c-4c6b-94d3-e1b13f9fff7e",
   "metadata": {},
   "outputs": [
    {
     "name": "stdout",
     "output_type": "stream",
     "text": [
      "True ですよ\n"
     ]
    }
   ],
   "source": [
    "a, b =\"sba\", \"gasba\"\n",
    "print(a in b, \"ですよ\")"
   ]
  },
  {
   "cell_type": "code",
   "execution_count": 10,
   "id": "76032f75-0036-45ac-83a1-0335bc1eec1e",
   "metadata": {},
   "outputs": [
    {
     "name": "stdout",
     "output_type": "stream",
     "text": [
      "False\n"
     ]
    },
    {
     "data": {
      "text/plain": [
       "False"
      ]
     },
     "execution_count": 10,
     "metadata": {},
     "output_type": "execute_result"
    }
   ],
   "source": [
    "c, d =\"xch\", \"orweit\"\n",
    "print(c in d)\n",
    "'xch' in 'orweit'"
   ]
  },
  {
   "cell_type": "markdown",
   "id": "5de2234b-4b3e-47af-8380-7b93612eda9e",
   "metadata": {},
   "source": [
    "# リスト"
   ]
  },
  {
   "cell_type": "markdown",
   "id": "87fbda3d-1ec1-4439-9969-4542172d868b",
   "metadata": {},
   "source": [
    "## 14.特定の値を抽出"
   ]
  },
  {
   "cell_type": "code",
   "execution_count": 20,
   "id": "4ff8539b-10da-44e9-9808-da25a72888ca",
   "metadata": {},
   "outputs": [
    {
     "name": "stdout",
     "output_type": "stream",
     "text": [
      "3\n",
      "1\n"
     ]
    }
   ],
   "source": [
    "numbers = [0, 3, 8, -4, 9, 1]\n",
    "number_2 = numbers[1]\n",
    "number_last = numbers[-1]\n",
    "print(number_2)\n",
    "print(number_last)\n",
    "numbers.append(number_2)"
   ]
  },
  {
   "cell_type": "markdown",
   "id": "1b947ae0-55ea-40a5-8286-9bde0b834d0b",
   "metadata": {},
   "source": [
    "## 15.特定の値を挿入"
   ]
  },
  {
   "cell_type": "code",
   "execution_count": 22,
   "id": "cdd6dcf3-4d2b-42f5-97ae-d158f3304c8e",
   "metadata": {},
   "outputs": [],
   "source": [
    "numbers = [0, 3, 8, -4, 9, 1, 2]\n",
    "numbers.insert(0, 5)\n",
    "numbers.insert(-1, 6)"
   ]
  },
  {
   "cell_type": "markdown",
   "id": "09f5b7f5-a1e4-46c4-b1e8-c939c0ffe46e",
   "metadata": {
    "tags": []
   },
   "source": [
    "## 16.特定の値を削除"
   ]
  },
  {
   "cell_type": "code",
   "execution_count": 23,
   "id": "90b27412-05b3-4953-9e30-e5eaebf20ec3",
   "metadata": {
    "tags": []
   },
   "outputs": [
    {
     "data": {
      "text/plain": [
       "1"
      ]
     },
     "execution_count": 23,
     "metadata": {},
     "output_type": "execute_result"
    }
   ],
   "source": [
    "numbers = [5, 0, 3, 8, -4, 9, 1, -3, 2]\n",
    "numbers.remove(5)\n",
    "numbers.pop(-3)"
   ]
  },
  {
   "cell_type": "markdown",
   "id": "c9a74f26-3ddb-4afd-bdfc-bccb3e08d446",
   "metadata": {},
   "source": [
    "## 17.フィルター"
   ]
  },
  {
   "cell_type": "code",
   "execution_count": 1,
   "id": "a36cd258-6eab-42db-8507-853cad49e5d7",
   "metadata": {},
   "outputs": [
    {
     "name": "stdout",
     "output_type": "stream",
     "text": [
      "this number, 5 is odd\n",
      "This number, 0 is even\n",
      "this number, 3 is odd\n",
      "This number, 8 is even\n",
      "This number, -4 is even\n",
      "this number, 9 is odd\n",
      "this number, 1 is odd\n",
      "this number, -3 is odd\n",
      "This number, 2 is even\n"
     ]
    },
    {
     "data": {
      "text/plain": [
       "[0, 8, -4, 2]"
      ]
     },
     "execution_count": 1,
     "metadata": {},
     "output_type": "execute_result"
    }
   ],
   "source": [
    "numbers = [5, 0, 3, 8, -4, 9, 1, -3, 2]\n",
    "def isEven(number):\n",
    "    if number % 2 == 0:\n",
    "        print(f'This number, {number} is even')\n",
    "        return True\n",
    "    else:\n",
    "        print(f'this number, {number} is odd')\n",
    "        return False\n",
    "    \n",
    "list(filter(isEven, numbers))"
   ]
  },
  {
   "cell_type": "markdown",
   "id": "10f1a1ca-0c61-4cf5-a178-8dae44685ab6",
   "metadata": {},
   "source": [
    "## 18.引数と一致する要素のインデックス"
   ]
  },
  {
   "cell_type": "code",
   "execution_count": 26,
   "id": "3e220bc4-48c8-4a1b-b995-6d393f244f83",
   "metadata": {},
   "outputs": [
    {
     "data": {
      "text/plain": [
       "4"
      ]
     },
     "execution_count": 26,
     "metadata": {},
     "output_type": "execute_result"
    }
   ],
   "source": [
    "numbers = [5, 0, 3, 8, -4, 9, 1, -3, 2]\n",
    "numbers.index(-4)"
   ]
  },
  {
   "cell_type": "markdown",
   "id": "e424aa3d-daa7-422a-bec5-0e5336e3ded5",
   "metadata": {},
   "source": [
    "## 19.ソート（昇順/降順）"
   ]
  },
  {
   "cell_type": "code",
   "execution_count": 30,
   "id": "dfce5ca2-1869-4dc4-a42a-497ee1a243ba",
   "metadata": {},
   "outputs": [
    {
     "name": "stdout",
     "output_type": "stream",
     "text": [
      "[5, 0, 3, 8, -4, 9, 1, -3, 2]\n"
     ]
    }
   ],
   "source": [
    "numbers = [5, 0, 3, 8, -4, 9, 1, -3, 2]\n",
    "print(numbers)"
   ]
  },
  {
   "cell_type": "code",
   "execution_count": 31,
   "id": "8d559b66-698a-453d-93e2-0ad0030db3fa",
   "metadata": {},
   "outputs": [
    {
     "name": "stdout",
     "output_type": "stream",
     "text": [
      "[-4, -3, 0, 1, 2, 3, 5, 8, 9]\n"
     ]
    }
   ],
   "source": [
    "numbers.sort()\n",
    "print(numbers)"
   ]
  },
  {
   "cell_type": "code",
   "execution_count": 32,
   "id": "4230f14d-9e81-4c18-817f-19f679c1b7bd",
   "metadata": {},
   "outputs": [
    {
     "name": "stdout",
     "output_type": "stream",
     "text": [
      "[9, 8, 5, 3, 2, 1, 0, -3, -4]\n"
     ]
    }
   ],
   "source": [
    "numbers.sort(reverse = True)\n",
    "print(numbers)"
   ]
  },
  {
   "cell_type": "markdown",
   "id": "66c8c784-947a-4afe-add4-29e3a76f590a",
   "metadata": {},
   "source": [
    "# 辞書"
   ]
  },
  {
   "cell_type": "markdown",
   "id": "08d6c9a1-260d-4fcb-8276-75a172c6c516",
   "metadata": {},
   "source": [
    "## 20.要素の削除"
   ]
  },
  {
   "cell_type": "code",
   "execution_count": 38,
   "id": "28be9a4b-87e0-4a47-9459-2d843ee5f4a1",
   "metadata": {},
   "outputs": [
    {
     "data": {
      "text/plain": [
       "{'C': '男性', 'D': '東京都', 'E': '海外旅行'}"
      ]
     },
     "execution_count": 38,
     "metadata": {},
     "output_type": "execute_result"
    }
   ],
   "source": [
    "dictionary = {\n",
    "    'A':'今西',\n",
    "    'B':'航平',\n",
    "    'C':'男性',\n",
    "    'D':'東京都',\n",
    "    'E':'海外旅行'\n",
    "}\n",
    "dictionary.pop('A')\n",
    "dictionary.pop('B')\n",
    "dictionary"
   ]
  },
  {
   "cell_type": "code",
   "execution_count": 39,
   "id": "b1b8fb71-dc13-4b53-8ba2-4436e61630de",
   "metadata": {},
   "outputs": [
    {
     "data": {
      "text/plain": [
       "{}"
      ]
     },
     "execution_count": 39,
     "metadata": {},
     "output_type": "execute_result"
    }
   ],
   "source": [
    "dictionary.clear()\n",
    "dictionary"
   ]
  },
  {
   "cell_type": "markdown",
   "id": "db19ebc2-6e26-4e45-abd1-9a0206d3c043",
   "metadata": {},
   "source": [
    "## 21.情報の取得"
   ]
  },
  {
   "cell_type": "code",
   "execution_count": 4,
   "id": "0bcb9b48-b725-45bf-99ad-ebf668febd82",
   "metadata": {},
   "outputs": [],
   "source": [
    "dictionary = {\n",
    "    'A':'今西',\n",
    "    'B':'航平',\n",
    "    'C':'男性',\n",
    "    'D':'東京都',\n",
    "    'E':'海外旅行'\n",
    "}"
   ]
  },
  {
   "cell_type": "code",
   "execution_count": 50,
   "id": "05e453e2-a951-434a-887e-cd31447bea1e",
   "metadata": {},
   "outputs": [
    {
     "data": {
      "text/plain": [
       "dict_values(['今西', '航平', '男性', '東京都', '海外旅行'])"
      ]
     },
     "execution_count": 50,
     "metadata": {},
     "output_type": "execute_result"
    }
   ],
   "source": [
    "dictionary.keys()\n",
    "dictionary.values()"
   ]
  },
  {
   "cell_type": "code",
   "execution_count": 58,
   "id": "35f45cfc-64f9-4099-8be4-07912027844a",
   "metadata": {},
   "outputs": [
    {
     "data": {
      "text/plain": [
       "True"
      ]
     },
     "execution_count": 58,
     "metadata": {},
     "output_type": "execute_result"
    }
   ],
   "source": [
    "'男性' in dictinary.values()"
   ]
  },
  {
   "cell_type": "code",
   "execution_count": 5,
   "id": "f56fc567-b7b2-467f-b873-78f2cf42dbe8",
   "metadata": {},
   "outputs": [
    {
     "name": "stdout",
     "output_type": "stream",
     "text": [
      "キーはA,バリューは今西\n",
      "キーはB,バリューは航平\n",
      "キーはC,バリューは男性\n",
      "キーはD,バリューは東京都\n",
      "キーはE,バリューは海外旅行\n"
     ]
    }
   ],
   "source": [
    "for key, value in dictionary.items():\n",
    "    print(f'キーは{key},バリューは{value}')"
   ]
  },
  {
   "cell_type": "markdown",
   "id": "1c23dec1-ce79-426f-a883-38bfbd633234",
   "metadata": {},
   "source": [
    "## 22.辞書内の要素検索"
   ]
  },
  {
   "cell_type": "code",
   "execution_count": 71,
   "id": "b94a5685-e297-4d69-bb5c-de8e048dcaf9",
   "metadata": {},
   "outputs": [],
   "source": [
    "dictionary = {\n",
    "    'A':'今西',\n",
    "    'B':'航平',\n",
    "    'C':'男性',\n",
    "    'D':'東京都',\n",
    "    'E':'海外旅行'\n",
    "}"
   ]
  },
  {
   "cell_type": "code",
   "execution_count": 75,
   "id": "a0e15a21-b745-4fcb-a42e-214b570eb48d",
   "metadata": {},
   "outputs": [
    {
     "data": {
      "text/plain": [
       "'海外旅行'"
      ]
     },
     "execution_count": 75,
     "metadata": {},
     "output_type": "execute_result"
    }
   ],
   "source": [
    "dictionary.get('C')\n",
    "dictionary.get('E')"
   ]
  },
  {
   "cell_type": "markdown",
   "id": "00d82410-eaad-45f1-a477-5e974344fbee",
   "metadata": {},
   "source": [
    "# 制御構文(if文)"
   ]
  },
  {
   "cell_type": "markdown",
   "id": "89457deb-a128-4849-b118-d1b9fdd56956",
   "metadata": {},
   "source": [
    "## 23.if文を使って条件分岐"
   ]
  },
  {
   "cell_type": "code",
   "execution_count": 84,
   "id": "db56af08-8c33-4a00-a34d-4c1ab30e7055",
   "metadata": {},
   "outputs": [
    {
     "name": "stdout",
     "output_type": "stream",
     "text": [
      "0です\n"
     ]
    }
   ],
   "source": [
    "num = int()\n",
    "if num > 0:\n",
    "    print(\"正の値です\")\n",
    "elif num == 0:\n",
    "    print('0です')\n",
    "else:\n",
    "    print('負の値です')"
   ]
  },
  {
   "cell_type": "markdown",
   "id": "f753bd64-ac00-4d7a-88aa-5e170ff95785",
   "metadata": {},
   "source": [
    "## 24.論理演算子を使って複数条件の指定"
   ]
  },
  {
   "cell_type": "code",
   "execution_count": 1,
   "id": "5f95686c-4095-40ff-bfb7-41d23230dc71",
   "metadata": {},
   "outputs": [
    {
     "name": "stdout",
     "output_type": "stream",
     "text": [
      "１桁の偶数です\n"
     ]
    }
   ],
   "source": [
    "a = int()\n",
    "if 0 <= a < 10 and a % 2 == 0:\n",
    "    print('１桁の偶数です')\n",
    "elif a <0 and a % 2 == 1:\n",
    "    print('負の奇数です')\n",
    "else:\n",
    "    print('整数です')"
   ]
  },
  {
   "cell_type": "markdown",
   "id": "e9adceae-4150-4a49-9a36-31cabea2fb34",
   "metadata": {},
   "source": [
    "## 25.リストの要素の表示"
   ]
  },
  {
   "cell_type": "code",
   "execution_count": 6,
   "id": "e35f1a57-a257-4071-bb63-0024c0af0b26",
   "metadata": {},
   "outputs": [
    {
     "name": "stdout",
     "output_type": "stream",
     "text": [
      "['John', 'Kevin', 'Luois']\n",
      "John\n",
      "Kevin\n",
      "Luois\n"
     ]
    }
   ],
   "source": [
    "names = ['John', 'Kevin', 'Luois']\n",
    "print(names)\n",
    "for name in names:\n",
    "    print(name)"
   ]
  },
  {
   "cell_type": "markdown",
   "id": "d4a8ea32-3a6e-4ffe-b0f7-0df3a0822f3d",
   "metadata": {},
   "source": [
    "## 25.range関数"
   ]
  },
  {
   "cell_type": "code",
   "execution_count": 11,
   "id": "68411f1a-e8a7-4a62-b79c-c9df62adc40d",
   "metadata": {},
   "outputs": [
    {
     "name": "stdout",
     "output_type": "stream",
     "text": [
      "0\n",
      "1\n",
      "2\n",
      "3\n",
      "4\n",
      "5\n",
      "6\n",
      "7\n",
      "8\n",
      "9\n"
     ]
    }
   ],
   "source": [
    "for i in range(0,10):\n",
    "    print(i)"
   ]
  },
  {
   "cell_type": "markdown",
   "id": "bb604cc6-17ba-4430-8f19-54fcd452ce22",
   "metadata": {},
   "source": [
    "## 27.強制終了"
   ]
  },
  {
   "cell_type": "code",
   "execution_count": 12,
   "id": "00935196-0741-4c5a-8b37-70e98700bc4f",
   "metadata": {},
   "outputs": [
    {
     "name": "stdout",
     "output_type": "stream",
     "text": [
      "0\n",
      "1\n",
      "2\n",
      "3\n",
      "4\n",
      "5\n",
      "6\n",
      "終了！\n"
     ]
    }
   ],
   "source": [
    "for i in range(0,10):\n",
    "    print(i)\n",
    "    if i == 6:\n",
    "        print('終了！')\n",
    "        break"
   ]
  },
  {
   "cell_type": "markdown",
   "id": "34589da3-316f-400b-a549-c93826c51708",
   "metadata": {},
   "source": [
    "## 28.ループの途中で特定の処理を実行 "
   ]
  },
  {
   "cell_type": "code",
   "execution_count": 14,
   "id": "b874208d-a838-4359-a33a-28d22ca248e0",
   "metadata": {},
   "outputs": [
    {
     "name": "stdout",
     "output_type": "stream",
     "text": [
      "0\n",
      "1\n",
      "2\n",
      "4\n",
      "5\n",
      "6\n",
      "7\n",
      "8\n",
      "9\n"
     ]
    }
   ],
   "source": [
    "for i in range(0,10):\n",
    "    if i == 3:\n",
    "        continue\n",
    "    print(i)"
   ]
  },
  {
   "cell_type": "markdown",
   "id": "f0f80961-bb14-48c9-b7f8-648a8c181080",
   "metadata": {},
   "source": [
    "## 29.複数のリストを同時に処理"
   ]
  },
  {
   "cell_type": "code",
   "execution_count": 20,
   "id": "75ccb65b-6452-486f-b6f3-e81e0c13113e",
   "metadata": {},
   "outputs": [
    {
     "name": "stdout",
     "output_type": "stream",
     "text": [
      "加藤雄一\n",
      "佐藤拓也\n",
      "田中太郎\n",
      "田中太郎\n"
     ]
    }
   ],
   "source": [
    "lasts = ['加藤', '佐藤', '田中']\n",
    "firsts = ['雄一', '拓也', '太郎']\n",
    "for last,first in zip(lasts, firsts):\n",
    "    print(last + first)\n",
    "print(last + first)"
   ]
  },
  {
   "cell_type": "markdown",
   "id": "c26de78f-e9f9-45d2-b307-508ea3fe42aa",
   "metadata": {},
   "source": [
    "## 30.要素と同時にインデックス情報を取得"
   ]
  },
  {
   "cell_type": "code",
   "execution_count": 22,
   "id": "81530f51-a8cc-4b4a-9e11-4e2ef8d5222e",
   "metadata": {},
   "outputs": [
    {
     "name": "stdout",
     "output_type": "stream",
     "text": [
      "0番の加藤です。\n",
      "1番の佐藤です。\n",
      "2番の田中です。\n"
     ]
    }
   ],
   "source": [
    "lasts = ['加藤', '佐藤', '田中']\n",
    "for i, last in enumerate(lasts):\n",
    "    print(f'{i}番の{last}です。')"
   ]
  },
  {
   "cell_type": "markdown",
   "id": "30aad93a-85fd-44c4-ac37-ea44284ed809",
   "metadata": {},
   "source": [
    "## 31.内包表記"
   ]
  },
  {
   "cell_type": "code",
   "execution_count": 25,
   "id": "63c34423-de05-420b-9cbb-1acaedf36366",
   "metadata": {},
   "outputs": [
    {
     "name": "stdout",
     "output_type": "stream",
     "text": [
      "[0]\n",
      "[0, 2]\n",
      "[0, 2, 4]\n",
      "[0, 2, 4, 6]\n",
      "[0, 2, 4, 6, 8]\n"
     ]
    }
   ],
   "source": [
    "nums = []\n",
    "for i in range(0, 9):\n",
    "    if i % 2 == 0:\n",
    "        nums.append(i)\n",
    "        print(nums)"
   ]
  },
  {
   "cell_type": "code",
   "execution_count": 27,
   "id": "0a9edc0f-30f7-4cff-845f-746c94ab9a6b",
   "metadata": {},
   "outputs": [
    {
     "name": "stdout",
     "output_type": "stream",
     "text": [
      "[0, 2, 4, 6, 8]\n"
     ]
    }
   ],
   "source": [
    "nums = []\n",
    "for i in range(5):\n",
    "    nums.append(2 * i)\n",
    "print(nums)"
   ]
  },
  {
   "cell_type": "code",
   "execution_count": 29,
   "id": "0bd91cb9-37b9-49a4-97dc-3e8c0bdbbcf5",
   "metadata": {},
   "outputs": [
    {
     "name": "stdout",
     "output_type": "stream",
     "text": [
      "[0, 2, 4, 6, 8]\n"
     ]
    }
   ],
   "source": [
    "numbers = [2*i for i in range(5)]\n",
    "print(numbers)"
   ]
  },
  {
   "cell_type": "markdown",
   "id": "6325e2f6-6f2c-4eea-ae2c-91d771c2dc01",
   "metadata": {
    "tags": []
   },
   "source": [
    "# 例外処理"
   ]
  },
  {
   "cell_type": "markdown",
   "id": "8180eaf1-3de2-467f-bfe7-c6f844efef3d",
   "metadata": {
    "jp-MarkdownHeadingCollapsed": true,
    "tags": []
   },
   "source": [
    "## 32.0で割った時の例外処理"
   ]
  },
  {
   "cell_type": "markdown",
   "id": "710ecbae-9998-4f48-986d-9126f76f4974",
   "metadata": {},
   "source": [
    "num = 4\n",
    "try:\n",
    "    print(f'計算結果は: {10/num}')\n",
    "except:\n",
    "    print('エラー')"
   ]
  },
  {
   "cell_type": "markdown",
   "id": "2bf6f9c4-5971-4748-b3ba-f747871fee77",
   "metadata": {},
   "source": [
    "## 33.具体的なエラー内容の出力"
   ]
  },
  {
   "cell_type": "code",
   "execution_count": 41,
   "id": "edc66cd7-2278-47de-9a6d-0ad3d707352c",
   "metadata": {},
   "outputs": [
    {
     "name": "stdout",
     "output_type": "stream",
     "text": [
      "division by zero\n"
     ]
    }
   ],
   "source": [
    "num = int(0)\n",
    "try:\n",
    "    print(f'計算結果: {10/num}')\n",
    "except ZeroDivisionError as e:\n",
    "    print(e)"
   ]
  },
  {
   "cell_type": "markdown",
   "id": "3262a5bb-ed1c-4fe7-8dc3-a8201f59e6e0",
   "metadata": {},
   "source": [
    "## 34.エラー内容ごとの例外処理"
   ]
  },
  {
   "cell_type": "code",
   "execution_count": 42,
   "id": "27813b0a-439b-42c5-af2d-7e50fe86276a",
   "metadata": {},
   "outputs": [],
   "source": [
    "def divide(a, b):\n",
    "    try:\n",
    "        print(f'計算結果は: {a/b}')\n",
    "    except ZeroDivisionError as e:\n",
    "        print(e)\n",
    "    except TypeError as e:\n",
    "        print(e)"
   ]
  },
  {
   "cell_type": "code",
   "execution_count": 44,
   "id": "d6cf575f-c6a7-4d9c-9e9f-c094351dbbc4",
   "metadata": {},
   "outputs": [
    {
     "name": "stdout",
     "output_type": "stream",
     "text": [
      "unsupported operand type(s) for /: 'int' and 'str'\n"
     ]
    }
   ],
   "source": [
    "divide(4, \"a\")"
   ]
  },
  {
   "cell_type": "markdown",
   "id": "6e3c7fab-e2bc-45a0-a723-b1a67dcc0bd9",
   "metadata": {},
   "source": [
    "## 35.通常終了時に行う処理"
   ]
  },
  {
   "cell_type": "code",
   "execution_count": 48,
   "id": "d0ff8d33-816f-4c3d-954d-2440f9f6e447",
   "metadata": {},
   "outputs": [
    {
     "name": "stdout",
     "output_type": "stream",
     "text": [
      "unsupported operand type(s) for /: 'int' and 'str'\n"
     ]
    }
   ],
   "source": [
    "def divide(a, b):\n",
    "    try:\n",
    "        print(f'計算結果は: {a/b}')\n",
    "    except ZeroDivisionError as e:\n",
    "        print(e)\n",
    "    except TypeError as e:\n",
    "        print(e)\n",
    "    else:\n",
    "        print('正常に終了しました。')\n",
    "divide(4, 'a')"
   ]
  },
  {
   "cell_type": "markdown",
   "id": "5867ddb4-9618-4f37-bfa7-d07ddcb023f3",
   "metadata": {},
   "source": [
    "## 36.例外も含めた終了時に行う処理"
   ]
  },
  {
   "cell_type": "code",
   "execution_count": 2,
   "id": "306de206-38cd-4711-94fa-22679bdf3269",
   "metadata": {},
   "outputs": [],
   "source": [
    "def divide(a, b):\n",
    "    try:\n",
    "        print(f'計算結果は: {a/b}')\n",
    "    except ZeroDivisionError as e:\n",
    "        print(e)\n",
    "    except TypeError as e:\n",
    "        print(e)\n",
    "    finally:\n",
    "        print('すべての処理は終了しました。')"
   ]
  },
  {
   "cell_type": "markdown",
   "id": "1ba06da0-ef7c-4ed2-86fe-d7524a94c2a8",
   "metadata": {},
   "source": [
    "## 37.例外をスルー"
   ]
  },
  {
   "cell_type": "code",
   "execution_count": 51,
   "id": "037dd25b-7d8d-4da3-aace-cd6221823310",
   "metadata": {},
   "outputs": [],
   "source": [
    "def divide(a, b):\n",
    "    try:\n",
    "        print(f'計算結果は: {a/b}')\n",
    "    except ZeroDivisionError as e:\n",
    "        print(e)\n",
    "    except TypeError as e:\n",
    "        pass\n",
    "    finally:\n",
    "        print('すべての処理は終了しました。')"
   ]
  },
  {
   "cell_type": "markdown",
   "id": "a74730b9-08a5-43c5-99e2-2169d341c34e",
   "metadata": {},
   "source": [
    "# クラス"
   ]
  },
  {
   "cell_type": "markdown",
   "id": "7326d259-b85c-4fba-96bd-d0822742383c",
   "metadata": {},
   "source": [
    "## exercise"
   ]
  },
  {
   "cell_type": "code",
   "execution_count": 15,
   "id": "6b5fc63f-e6e9-40bf-b396-e16088d70f51",
   "metadata": {},
   "outputs": [
    {
     "name": "stdout",
     "output_type": "stream",
     "text": [
      "こんにちわ高山さん。私は高山です\n",
      "こんにちわ高山さん。私は宇宙人です\n"
     ]
    }
   ],
   "source": [
    "class Person:\n",
    "    def __init__(self, name, nationality, age):\n",
    "        self.name = name\n",
    "        self.nationality = nationality\n",
    "        self.age = age\n",
    "        \n",
    "    def __call__(self):\n",
    "        print('これはcallメソッドです。')\n",
    "    def say_hello(self, name):\n",
    "        print(f'こんにちわ{name}さん。私は{self.name}です')\n",
    "takayama = Person('高山', 'ベトナム', 20)\n",
    "alian = Person('宇宙人', '地球外', 100)\n",
    "\n",
    "takayama.say_hello('高山')\n",
    "alian.say_hello('高山')"
   ]
  },
  {
   "cell_type": "code",
   "execution_count": 17,
   "id": "3c2d7ec5-5969-4444-bc8f-c9ed36a38950",
   "metadata": {},
   "outputs": [
    {
     "name": "stdout",
     "output_type": "stream",
     "text": [
      "これはcallメソッドです。\n",
      "これはcallメソッドです。\n"
     ]
    }
   ],
   "source": [
    "takayama.__call__()\n",
    "takayama()"
   ]
  },
  {
   "cell_type": "markdown",
   "id": "3086e9d9-513a-4817-9803-c7c552080575",
   "metadata": {},
   "source": [
    "## 38.クラスの基礎"
   ]
  },
  {
   "cell_type": "code",
   "execution_count": 78,
   "id": "e6aa3c64-cd90-4f78-898c-c2dbe72f610b",
   "metadata": {},
   "outputs": [
    {
     "name": "stdout",
     "output_type": "stream",
     "text": [
      "こんにちわ、私の国籍はJapanです。\n"
     ]
    }
   ],
   "source": [
    "class Person:\n",
    "    nationality = 'Japan'\n",
    "    \n",
    "    def say_hello(self):\n",
    "        print(f'こんにちわ、私の国籍は{self.nationality}です。')\n",
    "        \n",
    "person = Person()\n",
    "person.say_hello()"
   ]
  },
  {
   "cell_type": "markdown",
   "id": "9b8b893e-5eea-4265-9c2a-e220dc541d26",
   "metadata": {},
   "source": [
    "## 39.コンストラクタの設定"
   ]
  },
  {
   "cell_type": "code",
   "execution_count": null,
   "id": "d9d243e1-5aa0-4fa7-af16-2d5c7368f31d",
   "metadata": {},
   "outputs": [],
   "source": [
    "class Person:\n",
    "    nationality = 'Japan'\n",
    "    def __init__(self, name):\n",
    "        self.name = name\n",
    "    \n",
    "    def say_hello(self):\n",
    "        print(f'こんにちわ、私の国籍は{self.nationality}です。')\n",
    "        \n",
    "    def say_my_name(self):\n",
    "        print(f'私の名前は{self.name}です')\n",
    "        \n",
    "takayama = Person('高山')\n",
    "takayama.say_my_name()\n",
    "takayama.say_hello()"
   ]
  },
  {
   "cell_type": "markdown",
   "id": "c4be6969-7297-4275-9c6c-4b7fb1c4a87c",
   "metadata": {},
   "source": [
    "## 40.クラスの継承"
   ]
  },
  {
   "cell_type": "code",
   "execution_count": 26,
   "id": "b176f327-8d20-4bc2-b6b7-886e93b36dc3",
   "metadata": {},
   "outputs": [
    {
     "name": "stdout",
     "output_type": "stream",
     "text": [
      "私の名前は航平です。年齢は9歳です\n"
     ]
    }
   ],
   "source": [
    "class Person:\n",
    "    nationality = 'Japan'\n",
    "    def __init__(self, name):\n",
    "        self.name = name\n",
    "    \n",
    "    def say_hello(self):\n",
    "        print(f'こんにちわ、私の国籍は{self.nationality}です。')\n",
    "        \n",
    "    def say_my_name(self):\n",
    "        print(f'私の名前は{self.name}です')\n",
    "\n",
    "class Kid(Person):\n",
    "    def say_hello(self, age):\n",
    "        print(f'私の名前は{self.name}です。年齢は{age}歳です')\n",
    "\n",
    "kid = Kid('航平')\n",
    "kid.say_hello('9')"
   ]
  },
  {
   "cell_type": "markdown",
   "id": "b9b10f8f-4984-4272-b23c-2a04aaf476d9",
   "metadata": {},
   "source": [
    "## 41.Privateとpublic"
   ]
  },
  {
   "cell_type": "code",
   "execution_count": 45,
   "id": "47016e77-dabe-45b5-8f26-0a96dac375de",
   "metadata": {},
   "outputs": [
    {
     "name": "stdout",
     "output_type": "stream",
     "text": [
      "こんにちわ、私の国籍はJapanです。\n"
     ]
    },
    {
     "ename": "AttributeError",
     "evalue": "'Person' object has no attribute '__say_my_name'",
     "output_type": "error",
     "traceback": [
      "\u001b[0;31m---------------------------------------------------------------------------\u001b[0m",
      "\u001b[0;31mAttributeError\u001b[0m                            Traceback (most recent call last)",
      "Input \u001b[0;32mIn [45]\u001b[0m, in \u001b[0;36m<module>\u001b[0;34m\u001b[0m\n\u001b[1;32m     12\u001b[0m takayama \u001b[38;5;241m=\u001b[39m Person(\u001b[38;5;124m'\u001b[39m\u001b[38;5;124mtakayama\u001b[39m\u001b[38;5;124m'\u001b[39m)\n\u001b[1;32m     14\u001b[0m takayama\u001b[38;5;241m.\u001b[39msay_hello()\n\u001b[0;32m---> 16\u001b[0m \u001b[43mtakayama\u001b[49m\u001b[38;5;241;43m.\u001b[39;49m\u001b[43m__say_my_name\u001b[49m()\n",
      "\u001b[0;31mAttributeError\u001b[0m: 'Person' object has no attribute '__say_my_name'"
     ]
    }
   ],
   "source": [
    "class Person:\n",
    "    __nationality = 'Japan'\n",
    "    def __init__(self, name):\n",
    "        self.name = name\n",
    "    \n",
    "    def say_hello(self):\n",
    "        print(f'こんにちわ、私の国籍は{self.__nationality}です。')\n",
    "        \n",
    "    def __say_my_name(self):\n",
    "        print(f'私の名前は{self.name}です')\n",
    "\n",
    "takayama = Person('takayama')\n",
    "\n",
    "takayama.say_hello()\n"
   ]
  },
  {
   "cell_type": "code",
   "execution_count": 44,
   "id": "e3c30048-5893-487b-b441-d7e30a2e31bd",
   "metadata": {},
   "outputs": [
    {
     "ename": "AttributeError",
     "evalue": "'Person' object has no attribute '__nationality'",
     "output_type": "error",
     "traceback": [
      "\u001b[0;31m---------------------------------------------------------------------------\u001b[0m",
      "\u001b[0;31mAttributeError\u001b[0m                            Traceback (most recent call last)",
      "Input \u001b[0;32mIn [44]\u001b[0m, in \u001b[0;36m<module>\u001b[0;34m\u001b[0m\n\u001b[0;32m----> 1\u001b[0m \u001b[43mtakayama\u001b[49m\u001b[38;5;241;43m.\u001b[39;49m\u001b[43m__nationality\u001b[49m\n",
      "\u001b[0;31mAttributeError\u001b[0m: 'Person' object has no attribute '__nationality'"
     ]
    }
   ],
   "source": [
    "takayama.__nationality"
   ]
  },
  {
   "cell_type": "markdown",
   "id": "b62915cf-1e11-4501-939f-0f46b78770ce",
   "metadata": {},
   "source": [
    "# ファイル操作"
   ]
  },
  {
   "cell_type": "markdown",
   "id": "70d16a44-f12d-4f06-a4d6-5861791289a7",
   "metadata": {},
   "source": [
    "## 42.ファイル操作の基本"
   ]
  },
  {
   "cell_type": "code",
   "execution_count": 52,
   "id": "eab6f5c0-a265-4662-bea6-06b5793aaabc",
   "metadata": {},
   "outputs": [
    {
     "data": {
      "text/plain": [
       "<function TextIOWrapper.close()>"
      ]
     },
     "execution_count": 52,
     "metadata": {},
     "output_type": "execute_result"
    }
   ],
   "source": [
    "file = open('sample.txt')\n",
    "text = file.read()\n",
    "file.close"
   ]
  },
  {
   "cell_type": "code",
   "execution_count": 53,
   "id": "1231662a-72db-49ce-9900-b49f5e158dad",
   "metadata": {},
   "outputs": [
    {
     "name": "stdout",
     "output_type": "stream",
     "text": [
      "\n"
     ]
    }
   ],
   "source": [
    "print(text)"
   ]
  },
  {
   "cell_type": "code",
   "execution_count": null,
   "id": "aaeb7895-c407-42dc-9275-61c630d6dd10",
   "metadata": {},
   "outputs": [],
   "source": []
  }
 ],
 "metadata": {
  "kernelspec": {
   "display_name": "Python 3 (ipykernel)",
   "language": "python",
   "name": "python3"
  },
  "language_info": {
   "codemirror_mode": {
    "name": "ipython",
    "version": 3
   },
   "file_extension": ".py",
   "mimetype": "text/x-python",
   "name": "python",
   "nbconvert_exporter": "python",
   "pygments_lexer": "ipython3",
   "version": "3.10.2"
  },
  "toc-showmarkdowntxt": true,
  "widgets": {
   "application/vnd.jupyter.widget-state+json": {
    "state": {},
    "version_major": 2,
    "version_minor": 0
   }
  }
 },
 "nbformat": 4,
 "nbformat_minor": 5
}
